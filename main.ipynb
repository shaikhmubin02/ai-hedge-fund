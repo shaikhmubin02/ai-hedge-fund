{
  "cells": [
    {
      "cell_type": "markdown",
      "metadata": {
        "colab_type": "text",
        "id": "view-in-github"
      },
      "source": [
        "<a href=\"https://colab.research.google.com/gist/virattt/e8eb91cbfdcb79adf6e129f5dd9cd1fd/hedge-fund-agent-team-v1-1.ipynb\" target=\"_parent\"><img src=\"https://colab.research.google.com/assets/colab-badge.svg\" alt=\"Open In Colab\"/></a>"
      ]
    },
    {
      "cell_type": "markdown",
      "metadata": {
        "id": "Xp0Uq2g0uLxb"
      },
      "source": [
        "We use the **supervisor** pattern, where we have 1 supervisor agent and 3 analyst agents:\n",
        "1. fundamental analyst\n",
        "2. technical analyst\n",
        "3. sentiment analyst"
      ]
    },
    {
      "cell_type": "markdown",
      "metadata": {
        "id": "xYivxWv2b6SW"
      },
      "source": [
        "## Setup"
      ]
    },
    {
      "cell_type": "code",
      "execution_count": null,
      "metadata": {
        "id": "unPP2JGqble1"
      },
      "outputs": [],
      "source": [
        "%%capture --no-stderr\n",
        "%pip install -U langgraph langchain langchain_openai langchain_experimental langsmith pandas"
      ]
    },
    {
      "cell_type": "code",
      "execution_count": null,
      "metadata": {
        "id": "5zJ1jU9-b9WS"
      },
      "outputs": [],
      "source": [
        "import getpass\n",
        "import os\n",
        "\n",
        "\n",
        "def _set_if_undefined(var: str):\n",
        "    if not os.environ.get(var):\n",
        "        os.environ[var] = getpass.getpass(f\"Please provide your {var}\")\n",
        "\n",
        "\n",
        "_set_if_undefined(\"OPENAI_API_KEY\")               # Get from https://platform.openai.com\n",
        "_set_if_undefined(\"FINANCIAL_DATASETS_API_KEY\")   # Get from https://financialdatasets.ai\n",
        "_set_if_undefined(\"TAVILY_API_KEY\")               # Get from https://tavily.com"
      ]
    },
    {
      "cell_type": "markdown",
      "metadata": {
        "id": "iADG-Tp3b--h"
      },
      "source": [
        "## Define agent tools"
      ]
    },
    {
      "cell_type": "code",
      "execution_count": null,
      "metadata": {
        "id": "twLVNqHMb_w9"
      },
      "outputs": [],
      "source": [
        "from langchain_core.tools import tool\n",
        "from typing import List, Dict, Optional\n",
        "\n",
        "from typing import List, Dict, Optional, Union\n",
        "import requests\n",
        "import os\n",
        "from typing import Dict, Union\n",
        "from pydantic import BaseModel, Field\n",
        "import requests\n",
        "from langchain_core.tools import tool\n",
        "\n",
        "class GetIncomeStatementsInput(BaseModel):\n",
        "    ticker: str = Field(..., description=\"The ticker of the stock.\")\n",
        "    period: str = Field(default=\"ttm\", description=\"The period of the income statements. Valid values are 'ttm', 'quarterly' or 'annual'.\")\n",
        "    limit: int = Field(default=10, description=\"The maximum number of income statements to return. Default is 10.\")\n",
        "\n",
        "@tool(\"get_income_statements\", args_schema=GetIncomeStatementsInput, return_direct=True)\n",
        "def get_income_statements(ticker: str, period: str = \"ttm\", limit: int = 10) -> Union[Dict, str]:\n",
        "    \"\"\"\n",
        "    Get income statements for a ticker with specified period and limit.\n",
        "    \"\"\"\n",
        "    api_key = os.environ.get(\"FINANCIAL_DATASETS_API_KEY\")\n",
        "    if not api_key:\n",
        "        raise ValueError(\"Missing FINANCIAL_DATASETS_API_KEY.\")\n",
        "\n",
        "    url = (\n",
        "        f'https://api.financialdatasets.ai/financials/income-statements'\n",
        "        f'?ticker={ticker}'\n",
        "        f'&period={period}'\n",
        "        f'&limit={limit}'\n",
        "    )\n",
        "\n",
        "    try:\n",
        "        response = requests.get(url, headers={'X-API-Key': api_key})\n",
        "        return response.json()\n",
        "    except Exception as e:\n",
        "        return {\"ticker\": ticker, \"income_statements\": [], \"error\": str(e)}\n",
        "\n",
        "class GetBalanceSheetsInput(BaseModel):\n",
        "    ticker: str = Field(..., description=\"The ticker of the stock.\")\n",
        "    period: str = Field(default=\"ttm\", description=\"The period of the balance sheets. Valid values are 'ttm', 'quarterly' or 'annual'.\")\n",
        "    limit: int = Field(default=10, description=\"The maximum number of balance sheets to return. Default is 10.\")\n",
        "\n",
        "@tool(\"get_balance_sheets\", args_schema=GetBalanceSheetsInput, return_direct=True)\n",
        "def get_balance_sheets(ticker: str, period: str = \"ttm\", limit: int = 10) -> Union[Dict, str]:\n",
        "    \"\"\"\n",
        "    Get balance sheets for a ticker with specified period and limit.\n",
        "    \"\"\"\n",
        "    api_key = os.environ.get(\"FINANCIAL_DATASETS_API_KEY\")\n",
        "    if not api_key:\n",
        "        raise ValueError(\"Missing FINANCIAL_DATASETS_API_KEY.\")\n",
        "\n",
        "    url = (\n",
        "        f'https://api.financialdatasets.ai/financials/balance-sheets'\n",
        "        f'?ticker={ticker}'\n",
        "        f'&period={period}'\n",
        "        f'&limit={limit}'\n",
        "    )\n",
        "\n",
        "    try:\n",
        "        response = requests.get(url, headers={'X-API-Key': api_key})\n",
        "        return response.json()\n",
        "    except Exception as e:\n",
        "        return {\"ticker\": ticker, \"balance_sheets\": [], \"error\": str(e)}\n",
        "\n",
        "class GetCashFlowStatementsInput(BaseModel):\n",
        "    ticker: str = Field(..., description=\"The ticker of the stock.\")\n",
        "    period: str = Field(default=\"ttm\", description=\"The period of the cash flow statements. Valid values are 'ttm', 'quarterly' or 'annual'.\")\n",
        "    limit: int = Field(default=10, description=\"The maximum number of cash flow statements to return. Default is 10.\")\n",
        "\n",
        "@tool(\"get_cash_flow_statements\", args_schema=GetCashFlowStatementsInput, return_direct=True)\n",
        "def get_cash_flow_statements(ticker: str, period: str = \"ttm\", limit: int = 10) -> Union[Dict, str]:\n",
        "    \"\"\"\n",
        "    Get cash flow statements for a ticker with specified period and limit.\n",
        "    \"\"\"\n",
        "    api_key = os.environ.get(\"FINANCIAL_DATASETS_API_KEY\")\n",
        "    if not api_key:\n",
        "        raise ValueError(\"Missing FINANCIAL_DATASETS_API_KEY.\")\n",
        "\n",
        "    url = (\n",
        "        f'https://api.financialdatasets.ai/financials/cash-flow-statements'\n",
        "        f'?ticker={ticker}'\n",
        "        f'&period={period}'\n",
        "        f'&limit={limit}'\n",
        "    )\n",
        "\n",
        "    try:\n",
        "        response = requests.get(url, headers={'X-API-Key': api_key})\n",
        "        return response.json()\n",
        "    except Exception as e:\n",
        "        return {\"ticker\": ticker, \"cash_flow_statements\": [], \"error\": str(e)}\n",
        "\n",
        "class GetPricesInput(BaseModel):\n",
        "    ticker: str = Field(..., description=\"The ticker of the stock.\")\n",
        "    start_date: str = Field(..., description=\"The start of the price time window. Either a date with the format YYYY-MM-DD or a millisecond timestamp.\")\n",
        "    end_date: str = Field(..., description=\"The end of the aggregate time window. Either a date with the format YYYY-MM-DD or a millisecond timestamp.\")\n",
        "    interval: str = Field(default=\"day\", description=\"The time interval of the prices. Valid values are second', 'minute', 'day', 'week', 'month', 'quarter', 'year'.\")\n",
        "    interval_multiplier: int = Field(default=1, description=\"The multiplier for the interval. For example, if interval is 'day' and interval_multiplier is 1, the prices will be daily. If interval is 'minute' and interval_multiplier is 5, the prices will be every 5 minutes.\")\n",
        "    limit: int = Field(default=5000, description=\"The maximum number of prices to return. The default is 5000 and the maximum is 50000.\")\n",
        "\n",
        "@tool(\"get_stock_prices\", args_schema=GetPricesInput, return_direct=True)\n",
        "def get_stock_prices(ticker: str, start_date: str, end_date: str, interval: str, interval_multiplier: int = 1, limit: int = 5000) -> Union[Dict, str]:\n",
        "    \"\"\"\n",
        "    Get prices for a ticker over a given date range and interval.\n",
        "    \"\"\"\n",
        "\n",
        "    api_key = os.environ.get(\"FINANCIAL_DATASETS_API_KEY\")\n",
        "    if not api_key:\n",
        "        raise ValueError(\"Missing FINANCIAL_DATASETS_API_KEY.\")\n",
        "    url = (\n",
        "        f\"https://api.financialdatasets.ai/prices\"\n",
        "        f\"?ticker={ticker}\"\n",
        "        f\"&start_date={start_date}\"\n",
        "        f\"&end_date={end_date}\"\n",
        "        f\"&interval={interval}\"\n",
        "        f\"&interval_multiplier={interval_multiplier}\"\n",
        "        f\"&limit={limit}\"\n",
        "    )\n",
        "\n",
        "    try:\n",
        "        response = requests.get(url, headers={'X-API-Key': api_key})\n",
        "        data = response.json()\n",
        "        return data\n",
        "    except Exception as e:\n",
        "        return {\"ticker\": ticker, \"prices\": [], \"error\": str(e)}\n",
        "\n",
        "class GetCurrentPriceInput(BaseModel):\n",
        "    ticker: str = Field(..., description=\"The ticker of the stock.\")\n",
        "\n",
        "@tool(\"get_current_stock_price\", args_schema=GetCurrentPriceInput, return_direct=True)\n",
        "def get_current_stock_price(ticker: str) -> Union[Dict, str]:\n",
        "    \"\"\"\n",
        "    Get the current (latest) stock price for a ticker.\n",
        "    \"\"\"\n",
        "    api_key = os.environ.get(\"FINANCIAL_DATASETS_API_KEY\")\n",
        "    if not api_key:\n",
        "        raise ValueError(\"Missing FINANCIAL_DATASETS_API_KEY.\")\n",
        "\n",
        "    url = f\"https://api.financialdatasets.ai/prices/snapshot?ticker={ticker}\"\n",
        "\n",
        "    try:\n",
        "        response = requests.get(url, headers={'X-API-Key': api_key})\n",
        "        return response.json()\n",
        "    except Exception as e:\n",
        "        return {\"ticker\": ticker, \"price\": None, \"error\": str(e)}\n",
        "\n",
        "class GetOptionsChainInput(BaseModel):\n",
        "    ticker: str = Field(..., description=\"The ticker of the stock.\")\n",
        "    limit: int = Field(default=10, description=\"The maximum number of options to return. Default is 10.\")\n",
        "    strike_price: Optional[float] = Field(default=None, description=\"Optional filter for specific strike price.\")\n",
        "    option_type: Optional[str] = Field(default=None, description=\"Optional filter for option type. Valid values are 'call' or 'put'.\")\n",
        "\n",
        "@tool(\"get_options_chain\", args_schema=GetOptionsChainInput, return_direct=True)\n",
        "def get_options_chain(\n",
        "    ticker: str,\n",
        "    limit: int = 10,\n",
        "    strike_price: Optional[float] = None,\n",
        "    option_type: Optional[str] = None\n",
        ") -> Union[Dict, str]:\n",
        "    \"\"\"\n",
        "    Get options chain data for a ticker with optional filters for strike price and option type.\n",
        "    \"\"\"\n",
        "    api_key = os.environ.get(\"FINANCIAL_DATASETS_API_KEY\")\n",
        "    if not api_key:\n",
        "        raise ValueError(\"Missing FINANCIAL_DATASETS_API_KEY.\")\n",
        "\n",
        "    params = {\n",
        "        'ticker': ticker,\n",
        "        'limit': limit\n",
        "    }\n",
        "\n",
        "    if strike_price is not None:\n",
        "        params['strike_price'] = strike_price\n",
        "    if option_type is not None:\n",
        "        params['option_type'] = option_type\n",
        "\n",
        "    url = 'https://api.financialdatasets.ai/options/chain'\n",
        "\n",
        "    try:\n",
        "        response = requests.get(url, headers={'X-API-Key': api_key}, params=params)\n",
        "        return response.json()\n",
        "    except Exception as e:\n",
        "        return {\"ticker\": ticker, \"options_chain\": [], \"error\": str(e)}\n",
        "\n",
        "class GetInsiderTradesInput(BaseModel):\n",
        "    ticker: str = Field(..., description=\"The ticker of the stock.\")\n",
        "    limit: int = Field(default=10, description=\"The maximum number of insider transactions to return. Default is 10.\")\n",
        "\n",
        "@tool(\"get_insider_trades\", args_schema=GetInsiderTradesInput, return_direct=True)\n",
        "def get_insider_trades(ticker: str, limit: int = 10) -> Union[Dict, str]:\n",
        "    \"\"\"\n",
        "    Get insider trading transactions for a ticker.\n",
        "    \"\"\"\n",
        "    api_key = os.environ.get(\"FINANCIAL_DATASETS_API_KEY\")\n",
        "    if not api_key:\n",
        "        raise ValueError(\"Missing FINANCIAL_DATASETS_API_KEY.\")\n",
        "\n",
        "    url = (\n",
        "        f'https://api.financialdatasets.ai/insider-transactions'\n",
        "        f'?ticker={ticker}'\n",
        "        f'&limit={limit}'\n",
        "    )\n",
        "\n",
        "    try:\n",
        "        response = requests.get(url, headers={'X-API-Key': api_key})\n",
        "        return response.json()\n",
        "    except Exception as e:\n",
        "        return {\"ticker\": ticker, \"insider_transactions\": [], \"error\": str(e)}"
      ]
    },
    {
      "cell_type": "code",
      "execution_count": null,
      "metadata": {
        "id": "SuI_X2SXv7Ek"
      },
      "outputs": [],
      "source": [
        "from typing import Annotated\n",
        "\n",
        "from langchain_community.tools.tavily_search import TavilySearchResults\n",
        "\n",
        "# News tool\n",
        "get_news_tool = TavilySearchResults(max_results=5)"
      ]
    },
    {
      "cell_type": "code",
      "execution_count": null,
      "metadata": {
        "id": "yF2AxTgSvEee"
      },
      "outputs": [],
      "source": [
        "# Group tools by analyst\n",
        "fundamental_tools = [get_income_statements, get_balance_sheets, get_cash_flow_statements]\n",
        "technical_tools = [get_stock_prices, get_current_stock_price]\n",
        "sentiment_tools = [get_options_chain, get_insider_trades, get_news_tool]"
      ]
    },
    {
      "cell_type": "markdown",
      "metadata": {
        "id": "F0N8OtbbcG0L"
      },
      "source": [
        "## Helper functions"
      ]
    },
    {
      "cell_type": "code",
      "execution_count": null,
      "metadata": {
        "id": "I7LhGDuEcCpC"
      },
      "outputs": [],
      "source": [
        "from langchain_core.messages import HumanMessage\n",
        "\n",
        "def agent_node(state, agent, name):\n",
        "    result = agent.invoke(state)\n",
        "    return {\n",
        "        \"messages\": [HumanMessage(content=result[\"messages\"][-1].content, name=name)]\n",
        "    }"
      ]
    },
    {
      "cell_type": "markdown",
      "metadata": {
        "id": "v5LtjrI-cJ1P"
      },
      "source": [
        "## Create LangGraph"
      ]
    },
    {
      "cell_type": "code",
      "execution_count": null,
      "metadata": {
        "id": "TT2AggDicQt6"
      },
      "outputs": [],
      "source": [
        "from langchain_core.prompts import ChatPromptTemplate, MessagesPlaceholder\n",
        "from langchain_openai import ChatOpenAI\n",
        "from pydantic import BaseModel\n",
        "from typing import Literal, Sequence\n",
        "from typing_extensions import TypedDict\n",
        "import functools\n",
        "import operator\n",
        "from langchain_core.messages import BaseMessage, HumanMessage\n",
        "from langgraph.graph import END, StateGraph, START\n",
        "from langgraph.prebuilt import create_react_agent\n",
        "\n",
        "# Define team members\n",
        "members = [\"fundamental_analyst\", \"technical_analyst\", \"sentiment_analyst\"]\n",
        "\n",
        "# Supervisor prompt (routing)\n",
        "system_prompt = (\n",
        "    \"You are a portfolio manager supervising a hedge fund team with the following analysts:\"\n",
        "    \" {members}. Each analyst has specific expertise:\"\n",
        "    \"\\n- fundamental_analyst: Analyzes financial statements and company health\"\n",
        "    \"\\n- technical_analyst: Analyzes price patterns and market trends\"\n",
        "    \"\\n- sentiment_analyst: Analyzes insider trading activity, options flow, and the news\"\n",
        "    \"\\nGiven the user request, determine which analyst should act next.\"\n",
        "    \" Each analyst will analyze one ticker and provide their findings.\"\n",
        "    \" When all necessary analysis is complete, respond with FINISH.\"\n",
        ")\n",
        "\n",
        "def agent_node(state, agent, name):\n",
        "    result = agent.invoke(state)\n",
        "    return {\n",
        "        \"messages\": [HumanMessage(content=result[\"messages\"][-1].content, name=name)]\n",
        "    }\n",
        "\n",
        "# Create the summary prompt template\n",
        "summary_prompt = ChatPromptTemplate.from_messages(\n",
        "    [\n",
        "        (\n",
        "            \"system\",\n",
        "            \"You are a portfolio manager responsible for synthesizing analysis from your team of analysts. \"\n",
        "            \"Review all the analysts' reports and provide a comprehensive summary including:\\n\"\n",
        "            \"1. Key financial metrics and their implications\\n\"\n",
        "            \"2. Technical analysis insights\\n\"\n",
        "            \"3. Market sentiment and news impact\\n\"\n",
        "            \"4. Overall investment recommendation\\n\"\n",
        "            \"Make sure to highlight any discrepancies or conflicting signals between different analyses.\"\n",
        "        ),\n",
        "        MessagesPlaceholder(variable_name=\"messages\"),\n",
        "        (\n",
        "            \"human\",\n",
        "            \"Based on all the analyst reports above, provide a comprehensive summary and investment recommendation.\"\n",
        "        ),\n",
        "    ]\n",
        ")\n",
        "\n",
        "# Initialize LLM\n",
        "llm = ChatOpenAI(model=\"gpt-4\")\n",
        "\n",
        "def supervisor_agent(state):\n",
        "    # Optionally, the supervisor can add a message\n",
        "    message = HumanMessage(content=\"Proceed with the analysis.\", name=\"supervisor\")\n",
        "    return {\n",
        "        \"messages\": state[\"messages\"] + [message]\n",
        "    }\n",
        "\n",
        "def final_summary_agent(state):\n",
        "    \"\"\"Create final summary of all analyst reports\"\"\"\n",
        "    summary_chain = summary_prompt | llm\n",
        "    result = summary_chain.invoke(state)\n",
        "    return {\n",
        "        \"messages\": [HumanMessage(content=result.content, name=\"portfolio_manager\")]\n",
        "    }\n",
        "\n",
        "# The agent state\n",
        "class AgentState(TypedDict):\n",
        "    messages: Annotated[Sequence[BaseMessage], operator.add]\n",
        "\n",
        "# Create the workflow\n",
        "workflow = StateGraph(AgentState)\n",
        "\n",
        "# Create the analysts\n",
        "fundamental_analyst = create_react_agent(llm, tools=fundamental_tools)\n",
        "fundamental_analyst_node = functools.partial(agent_node, agent=fundamental_analyst, name=\"fundamental_analyst\")\n",
        "\n",
        "technical_analyst = create_react_agent(llm, tools=technical_tools)\n",
        "technical_analyst_node = functools.partial(agent_node, agent=technical_analyst, name=\"technical_analyst\")\n",
        "\n",
        "sentiment_analyst = create_react_agent(llm, tools=sentiment_tools)\n",
        "sentiment_analyst_node = functools.partial(agent_node, agent=sentiment_analyst, name=\"sentiment_analyst\")\n",
        "\n",
        "# Add nodes\n",
        "workflow.add_node(\"fundamental_analyst\", fundamental_analyst_node)\n",
        "workflow.add_node(\"technical_analyst\", technical_analyst_node)\n",
        "workflow.add_node(\"sentiment_analyst\", sentiment_analyst_node)\n",
        "workflow.add_node(\"supervisor\", supervisor_agent)\n",
        "workflow.add_node(\"final_summary\", final_summary_agent)\n",
        "\n",
        "# Connect edges\n",
        "# From supervisor to each analyst\n",
        "for member in members:\n",
        "    workflow.add_edge(\"supervisor\", member)\n",
        "\n",
        "# From each analyst to final summary\n",
        "for member in members:\n",
        "    workflow.add_edge(member, \"final_summary\")\n",
        "\n",
        "# Add entry point and final edges\n",
        "workflow.add_edge(START, \"supervisor\")\n",
        "workflow.add_edge(\"final_summary\", END)\n",
        "\n",
        "# Compile the graph\n",
        "graph = workflow.compile()\n"
      ]
    },
    {
      "cell_type": "markdown",
      "metadata": {
        "id": "V7_AEtWz56-n"
      },
      "source": [
        "## Code to pretty print Agent output"
      ]
    },
    {
      "cell_type": "code",
      "execution_count": null,
      "metadata": {
        "id": "t2E2mnnJ5LaN"
      },
      "outputs": [],
      "source": [
        "from typing import Dict, Any\n",
        "import json\n",
        "import re\n",
        "from langchain_core.messages import HumanMessage\n",
        "from rich.console import Console\n",
        "from rich.panel import Panel\n",
        "from rich.text import Text\n",
        "from rich.rule import Rule\n",
        "\n",
        "console = Console()\n",
        "\n",
        "def format_bold_text(content: str) -> Text:\n",
        "    \"\"\"Convert **text** to rich Text with bold formatting.\"\"\"\n",
        "    text = Text()\n",
        "    pattern = r'\\*\\*(.*?)\\*\\*'\n",
        "\n",
        "    # Split the text by the bold markers\n",
        "    parts = re.split(pattern, content)\n",
        "\n",
        "    # Alternate between regular and bold text\n",
        "    for i, part in enumerate(parts):\n",
        "        if i % 2 == 0:\n",
        "            text.append(part)\n",
        "        else:\n",
        "            text.append(part, style=\"bold\")\n",
        "\n",
        "    return text\n",
        "\n",
        "def format_message_content(content: str) -> Union[str, Text]:\n",
        "    \"\"\"Format the message content, handling JSON and text with bold markers.\"\"\"\n",
        "    try:\n",
        "        # Try to parse as JSON for prettier formatting\n",
        "        data = json.loads(content)\n",
        "        return json.dumps(data, indent=2)\n",
        "    except:\n",
        "        # If not JSON, check for bold markers\n",
        "        if '**' in content:\n",
        "            return format_bold_text(content)\n",
        "        return content\n",
        "\n",
        "def format_agent_message(message: HumanMessage) -> Union[str, Text]:\n",
        "    \"\"\"Format a single agent message.\"\"\"\n",
        "    return format_message_content(message.content)\n",
        "\n",
        "def get_agent_title(agent: str, message: HumanMessage) -> str:\n",
        "    \"\"\"Get the title for the agent panel, with fallback handling.\"\"\"\n",
        "    base_title = agent.replace('_', ' ').title()\n",
        "\n",
        "    if hasattr(message, 'name') and message.name is not None:\n",
        "        try:\n",
        "            return message.name.replace('_', ' ').title()\n",
        "        except:\n",
        "            return base_title\n",
        "    return base_title\n",
        "\n",
        "def print_step(step: Dict[str, Any]) -> None:\n",
        "    \"\"\"Pretty print a single step of the agent execution.\"\"\"\n",
        "    for agent, data in step.items():\n",
        "        # Handle supervisor steps\n",
        "        if 'next' in data:\n",
        "            next_agent = data['next']\n",
        "            text = Text()\n",
        "            text.append(\"Portfolio Manager \", style=\"bold magenta\")\n",
        "            text.append(\"assigns next task to \", style=\"white\")\n",
        "\n",
        "            if next_agent == \"final_summary\":\n",
        "                text.append(\"FINAL SUMMARY\", style=\"bold yellow\")\n",
        "            elif next_agent == \"END\":\n",
        "                text.append(\"END\", style=\"bold red\")\n",
        "            else:\n",
        "                text.append(f\"{next_agent}\", style=\"bold green\")\n",
        "\n",
        "            console.print(Panel(\n",
        "                text,\n",
        "                title=\"[bold blue]Supervision Step\",\n",
        "                border_style=\"blue\"\n",
        "            ))\n",
        "\n",
        "        # Handle agent responses and final summary\n",
        "        if 'messages' in data:\n",
        "            message = data['messages'][0]\n",
        "            formatted_content = format_agent_message(message)\n",
        "\n",
        "            if agent == \"final_summary\":\n",
        "                # Final summary formatting\n",
        "                console.print(Rule(style=\"yellow\", title=\"Portfolio Analysis\"))\n",
        "                console.print(Panel(\n",
        "                    formatted_content,\n",
        "                    title=\"[bold yellow]Investment Summary and Recommendation\",\n",
        "                    border_style=\"yellow\",\n",
        "                    padding=(1, 2)\n",
        "                ))\n",
        "                console.print(Rule(style=\"yellow\"))\n",
        "            else:\n",
        "                # Regular analyst reports\n",
        "                title = get_agent_title(agent, message)\n",
        "                console.print(Panel(\n",
        "                    formatted_content,\n",
        "                    title=f\"[bold blue]{title} Report\",\n",
        "                    border_style=\"green\"\n",
        "                ))\n",
        "\n",
        "def stream_agent_execution(graph, input_data: Dict, config: Dict) -> None:\n",
        "    \"\"\"Stream and pretty print the agent execution.\"\"\"\n",
        "    console.print(\"\\n[bold blue]Starting Agent Execution...[/bold blue]\\n\")\n",
        "\n",
        "    for step in graph.stream(input_data, config):\n",
        "        if \"__end__\" not in step:\n",
        "            print_step(step)\n",
        "            console.print(\"\\n\")\n",
        "\n",
        "    console.print(\"[bold blue]Analysis Complete[/bold blue]\\n\")"
      ]
    },
    {
      "cell_type": "markdown",
      "metadata": {
        "id": "Y1_IZnAUTAHw"
      },
      "source": [
        "## Run the Hedge Fund team"
      ]
    },
    {
      "cell_type": "code",
      "execution_count": null,
      "metadata": {
        "colab": {
          "base_uri": "https://localhost:8080/",
          "height": 1000
        },
        "id": "gLUCOhL85Lip",
        "outputId": "2cca7c31-fbe9-4d42-c558-ca97515165d1"
      },
      "outputs": [
        {
          "data": {
            "text/html": [
              "<pre style=\"white-space:pre;overflow-x:auto;line-height:normal;font-family:Menlo,'DejaVu Sans Mono',consolas,'Courier New',monospace\">\n",
              "<span style=\"color: #000080; text-decoration-color: #000080; font-weight: bold\">Starting Agent Execution...</span>\n",
              "\n",
              "</pre>\n"
            ],
            "text/plain": [
              "\n",
              "\u001b[1;34mStarting Agent Execution\u001b[0m\u001b[1;34m...\u001b[0m\n",
              "\n"
            ]
          },
          "metadata": {},
          "output_type": "display_data"
        },
        {
          "data": {
            "text/html": [
              "<pre style=\"white-space:pre;overflow-x:auto;line-height:normal;font-family:Menlo,'DejaVu Sans Mono',consolas,'Courier New',monospace\"><span style=\"color: #008000; text-decoration-color: #008000\">╭─────────────────────────────────────────────── </span><span style=\"color: #000080; text-decoration-color: #000080; font-weight: bold\">Supervisor Report</span><span style=\"color: #008000; text-decoration-color: #008000\"> ───────────────────────────────────────────────╮</span>\n",
              "<span style=\"color: #008000; text-decoration-color: #008000\">│</span> What is the latest news, stock price, and revenue for AAPL?                                                     <span style=\"color: #008000; text-decoration-color: #008000\">│</span>\n",
              "<span style=\"color: #008000; text-decoration-color: #008000\">╰─────────────────────────────────────────────────────────────────────────────────────────────────────────────────╯</span>\n",
              "</pre>\n"
            ],
            "text/plain": [
              "\u001b[32m╭─\u001b[0m\u001b[32m──────────────────────────────────────────────\u001b[0m\u001b[32m \u001b[0m\u001b[1;34mSupervisor Report\u001b[0m\u001b[32m \u001b[0m\u001b[32m──────────────────────────────────────────────\u001b[0m\u001b[32m─╮\u001b[0m\n",
              "\u001b[32m│\u001b[0m What is the latest news, stock price, and revenue for AAPL?                                                     \u001b[32m│\u001b[0m\n",
              "\u001b[32m╰─────────────────────────────────────────────────────────────────────────────────────────────────────────────────╯\u001b[0m\n"
            ]
          },
          "metadata": {},
          "output_type": "display_data"
        },
        {
          "data": {
            "text/html": [
              "<pre style=\"white-space:pre;overflow-x:auto;line-height:normal;font-family:Menlo,'DejaVu Sans Mono',consolas,'Courier New',monospace\">\n",
              "\n",
              "</pre>\n"
            ],
            "text/plain": [
              "\n",
              "\n"
            ]
          },
          "metadata": {},
          "output_type": "display_data"
        },
        {
          "data": {
            "text/html": [
              "<pre style=\"white-space:pre;overflow-x:auto;line-height:normal;font-family:Menlo,'DejaVu Sans Mono',consolas,'Courier New',monospace\"><span style=\"color: #008000; text-decoration-color: #008000\">╭─────────────────────────────────────────── </span><span style=\"color: #000080; text-decoration-color: #000080; font-weight: bold\">Technical Analyst Report</span><span style=\"color: #008000; text-decoration-color: #008000\"> ────────────────────────────────────────────╮</span>\n",
              "<span style=\"color: #008000; text-decoration-color: #008000\">│</span> {                                                                                                               <span style=\"color: #008000; text-decoration-color: #008000\">│</span>\n",
              "<span style=\"color: #008000; text-decoration-color: #008000\">│</span>   \"snapshot\": {                                                                                                 <span style=\"color: #008000; text-decoration-color: #008000\">│</span>\n",
              "<span style=\"color: #008000; text-decoration-color: #008000\">│</span>     \"ticker\": \"AAPL\",                                                                                           <span style=\"color: #008000; text-decoration-color: #008000\">│</span>\n",
              "<span style=\"color: #008000; text-decoration-color: #008000\">│</span>     \"price\": 223.25,                                                                                            <span style=\"color: #008000; text-decoration-color: #008000\">│</span>\n",
              "<span style=\"color: #008000; text-decoration-color: #008000\">│</span>     \"day_change\": 1.240000000000009,                                                                            <span style=\"color: #008000; text-decoration-color: #008000\">│</span>\n",
              "<span style=\"color: #008000; text-decoration-color: #008000\">│</span>     \"day_change_percent\": 0.5585333993964277,                                                                   <span style=\"color: #008000; text-decoration-color: #008000\">│</span>\n",
              "<span style=\"color: #008000; text-decoration-color: #008000\">│</span>     \"time\": \"2024-11-05 17:11:48 EST\",                                                                          <span style=\"color: #008000; text-decoration-color: #008000\">│</span>\n",
              "<span style=\"color: #008000; text-decoration-color: #008000\">│</span>     \"time_nanoseconds\": 1730844708303158962                                                                     <span style=\"color: #008000; text-decoration-color: #008000\">│</span>\n",
              "<span style=\"color: #008000; text-decoration-color: #008000\">│</span>   }                                                                                                             <span style=\"color: #008000; text-decoration-color: #008000\">│</span>\n",
              "<span style=\"color: #008000; text-decoration-color: #008000\">│</span> }                                                                                                               <span style=\"color: #008000; text-decoration-color: #008000\">│</span>\n",
              "<span style=\"color: #008000; text-decoration-color: #008000\">╰─────────────────────────────────────────────────────────────────────────────────────────────────────────────────╯</span>\n",
              "</pre>\n"
            ],
            "text/plain": [
              "\u001b[32m╭─\u001b[0m\u001b[32m──────────────────────────────────────────\u001b[0m\u001b[32m \u001b[0m\u001b[1;34mTechnical Analyst Report\u001b[0m\u001b[32m \u001b[0m\u001b[32m───────────────────────────────────────────\u001b[0m\u001b[32m─╮\u001b[0m\n",
              "\u001b[32m│\u001b[0m {                                                                                                               \u001b[32m│\u001b[0m\n",
              "\u001b[32m│\u001b[0m   \"snapshot\": {                                                                                                 \u001b[32m│\u001b[0m\n",
              "\u001b[32m│\u001b[0m     \"ticker\": \"AAPL\",                                                                                           \u001b[32m│\u001b[0m\n",
              "\u001b[32m│\u001b[0m     \"price\": 223.25,                                                                                            \u001b[32m│\u001b[0m\n",
              "\u001b[32m│\u001b[0m     \"day_change\": 1.240000000000009,                                                                            \u001b[32m│\u001b[0m\n",
              "\u001b[32m│\u001b[0m     \"day_change_percent\": 0.5585333993964277,                                                                   \u001b[32m│\u001b[0m\n",
              "\u001b[32m│\u001b[0m     \"time\": \"2024-11-05 17:11:48 EST\",                                                                          \u001b[32m│\u001b[0m\n",
              "\u001b[32m│\u001b[0m     \"time_nanoseconds\": 1730844708303158962                                                                     \u001b[32m│\u001b[0m\n",
              "\u001b[32m│\u001b[0m   }                                                                                                             \u001b[32m│\u001b[0m\n",
              "\u001b[32m│\u001b[0m }                                                                                                               \u001b[32m│\u001b[0m\n",
              "\u001b[32m╰─────────────────────────────────────────────────────────────────────────────────────────────────────────────────╯\u001b[0m\n"
            ]
          },
          "metadata": {},
          "output_type": "display_data"
        },
        {
          "data": {
            "text/html": [
              "<pre style=\"white-space:pre;overflow-x:auto;line-height:normal;font-family:Menlo,'DejaVu Sans Mono',consolas,'Courier New',monospace\">\n",
              "\n",
              "</pre>\n"
            ],
            "text/plain": [
              "\n",
              "\n"
            ]
          },
          "metadata": {},
          "output_type": "display_data"
        },
        {
          "data": {
            "text/html": [
              "<pre style=\"white-space:pre;overflow-x:auto;line-height:normal;font-family:Menlo,'DejaVu Sans Mono',consolas,'Courier New',monospace\"><span style=\"color: #008000; text-decoration-color: #008000\">╭────────────────────────────────────────── </span><span style=\"color: #000080; text-decoration-color: #000080; font-weight: bold\">Fundamental Analyst Report</span><span style=\"color: #008000; text-decoration-color: #008000\"> ───────────────────────────────────────────╮</span>\n",
              "<span style=\"color: #008000; text-decoration-color: #008000\">│</span> {                                                                                                               <span style=\"color: #008000; text-decoration-color: #008000\">│</span>\n",
              "<span style=\"color: #008000; text-decoration-color: #008000\">│</span>   \"income_statements\": [                                                                                        <span style=\"color: #008000; text-decoration-color: #008000\">│</span>\n",
              "<span style=\"color: #008000; text-decoration-color: #008000\">│</span>     {                                                                                                           <span style=\"color: #008000; text-decoration-color: #008000\">│</span>\n",
              "<span style=\"color: #008000; text-decoration-color: #008000\">│</span>       \"ticker\": \"AAPL\",                                                                                         <span style=\"color: #008000; text-decoration-color: #008000\">│</span>\n",
              "<span style=\"color: #008000; text-decoration-color: #008000\">│</span>       \"calendar_date\": \"2024-09-30\",                                                                            <span style=\"color: #008000; text-decoration-color: #008000\">│</span>\n",
              "<span style=\"color: #008000; text-decoration-color: #008000\">│</span>       \"report_period\": \"2024-09-28\",                                                                            <span style=\"color: #008000; text-decoration-color: #008000\">│</span>\n",
              "<span style=\"color: #008000; text-decoration-color: #008000\">│</span>       \"period\": \"ttm\",                                                                                          <span style=\"color: #008000; text-decoration-color: #008000\">│</span>\n",
              "<span style=\"color: #008000; text-decoration-color: #008000\">│</span>       \"currency\": \"USD\",                                                                                        <span style=\"color: #008000; text-decoration-color: #008000\">│</span>\n",
              "<span style=\"color: #008000; text-decoration-color: #008000\">│</span>       \"revenue\": 391035000000.0,                                                                                <span style=\"color: #008000; text-decoration-color: #008000\">│</span>\n",
              "<span style=\"color: #008000; text-decoration-color: #008000\">│</span>       \"cost_of_revenue\": 210352000000.0,                                                                        <span style=\"color: #008000; text-decoration-color: #008000\">│</span>\n",
              "<span style=\"color: #008000; text-decoration-color: #008000\">│</span>       \"gross_profit\": 180683000000.0,                                                                           <span style=\"color: #008000; text-decoration-color: #008000\">│</span>\n",
              "<span style=\"color: #008000; text-decoration-color: #008000\">│</span>       \"operating_expense\": 57467000000.0,                                                                       <span style=\"color: #008000; text-decoration-color: #008000\">│</span>\n",
              "<span style=\"color: #008000; text-decoration-color: #008000\">│</span>       \"selling_general_and_administrative_expenses\": 26097000000.0,                                             <span style=\"color: #008000; text-decoration-color: #008000\">│</span>\n",
              "<span style=\"color: #008000; text-decoration-color: #008000\">│</span>       \"research_and_development\": 31370000000.0,                                                                <span style=\"color: #008000; text-decoration-color: #008000\">│</span>\n",
              "<span style=\"color: #008000; text-decoration-color: #008000\">│</span>       \"operating_income\": 123216000000.0,                                                                       <span style=\"color: #008000; text-decoration-color: #008000\">│</span>\n",
              "<span style=\"color: #008000; text-decoration-color: #008000\">│</span>       \"interest_expense\": 0.0,                                                                                  <span style=\"color: #008000; text-decoration-color: #008000\">│</span>\n",
              "<span style=\"color: #008000; text-decoration-color: #008000\">│</span>       \"ebit\": 123485000000.0,                                                                                   <span style=\"color: #008000; text-decoration-color: #008000\">│</span>\n",
              "<span style=\"color: #008000; text-decoration-color: #008000\">│</span>       \"income_tax_expense\": 29749000000.0,                                                                      <span style=\"color: #008000; text-decoration-color: #008000\">│</span>\n",
              "<span style=\"color: #008000; text-decoration-color: #008000\">│</span>       \"net_income_discontinued_operations\": 0.0,                                                                <span style=\"color: #008000; text-decoration-color: #008000\">│</span>\n",
              "<span style=\"color: #008000; text-decoration-color: #008000\">│</span>       \"net_income_non_controlling_interests\": 0.0,                                                              <span style=\"color: #008000; text-decoration-color: #008000\">│</span>\n",
              "<span style=\"color: #008000; text-decoration-color: #008000\">│</span>       \"net_income\": 93736000000.0,                                                                              <span style=\"color: #008000; text-decoration-color: #008000\">│</span>\n",
              "<span style=\"color: #008000; text-decoration-color: #008000\">│</span>       \"net_income_common_stock\": 93736000000.0,                                                                 <span style=\"color: #008000; text-decoration-color: #008000\">│</span>\n",
              "<span style=\"color: #008000; text-decoration-color: #008000\">│</span>       \"preferred_dividends_impact\": 0.0,                                                                        <span style=\"color: #008000; text-decoration-color: #008000\">│</span>\n",
              "<span style=\"color: #008000; text-decoration-color: #008000\">│</span>       \"consolidated_income\": 93736000000.0,                                                                     <span style=\"color: #008000; text-decoration-color: #008000\">│</span>\n",
              "<span style=\"color: #008000; text-decoration-color: #008000\">│</span>       \"earnings_per_share\": 6.11,                                                                               <span style=\"color: #008000; text-decoration-color: #008000\">│</span>\n",
              "<span style=\"color: #008000; text-decoration-color: #008000\">│</span>       \"earnings_per_share_diluted\": 6.08,                                                                       <span style=\"color: #008000; text-decoration-color: #008000\">│</span>\n",
              "<span style=\"color: #008000; text-decoration-color: #008000\">│</span>       \"dividends_per_common_share\": 0.98,                                                                       <span style=\"color: #008000; text-decoration-color: #008000\">│</span>\n",
              "<span style=\"color: #008000; text-decoration-color: #008000\">│</span>       \"weighted_average_shares\": 15343783000.0,                                                                 <span style=\"color: #008000; text-decoration-color: #008000\">│</span>\n",
              "<span style=\"color: #008000; text-decoration-color: #008000\">│</span>       \"weighted_average_shares_diluted\": 15408095000.0                                                          <span style=\"color: #008000; text-decoration-color: #008000\">│</span>\n",
              "<span style=\"color: #008000; text-decoration-color: #008000\">│</span>     }                                                                                                           <span style=\"color: #008000; text-decoration-color: #008000\">│</span>\n",
              "<span style=\"color: #008000; text-decoration-color: #008000\">│</span>   ]                                                                                                             <span style=\"color: #008000; text-decoration-color: #008000\">│</span>\n",
              "<span style=\"color: #008000; text-decoration-color: #008000\">│</span> }                                                                                                               <span style=\"color: #008000; text-decoration-color: #008000\">│</span>\n",
              "<span style=\"color: #008000; text-decoration-color: #008000\">╰─────────────────────────────────────────────────────────────────────────────────────────────────────────────────╯</span>\n",
              "</pre>\n"
            ],
            "text/plain": [
              "\u001b[32m╭─\u001b[0m\u001b[32m─────────────────────────────────────────\u001b[0m\u001b[32m \u001b[0m\u001b[1;34mFundamental Analyst Report\u001b[0m\u001b[32m \u001b[0m\u001b[32m──────────────────────────────────────────\u001b[0m\u001b[32m─╮\u001b[0m\n",
              "\u001b[32m│\u001b[0m {                                                                                                               \u001b[32m│\u001b[0m\n",
              "\u001b[32m│\u001b[0m   \"income_statements\": [                                                                                        \u001b[32m│\u001b[0m\n",
              "\u001b[32m│\u001b[0m     {                                                                                                           \u001b[32m│\u001b[0m\n",
              "\u001b[32m│\u001b[0m       \"ticker\": \"AAPL\",                                                                                         \u001b[32m│\u001b[0m\n",
              "\u001b[32m│\u001b[0m       \"calendar_date\": \"2024-09-30\",                                                                            \u001b[32m│\u001b[0m\n",
              "\u001b[32m│\u001b[0m       \"report_period\": \"2024-09-28\",                                                                            \u001b[32m│\u001b[0m\n",
              "\u001b[32m│\u001b[0m       \"period\": \"ttm\",                                                                                          \u001b[32m│\u001b[0m\n",
              "\u001b[32m│\u001b[0m       \"currency\": \"USD\",                                                                                        \u001b[32m│\u001b[0m\n",
              "\u001b[32m│\u001b[0m       \"revenue\": 391035000000.0,                                                                                \u001b[32m│\u001b[0m\n",
              "\u001b[32m│\u001b[0m       \"cost_of_revenue\": 210352000000.0,                                                                        \u001b[32m│\u001b[0m\n",
              "\u001b[32m│\u001b[0m       \"gross_profit\": 180683000000.0,                                                                           \u001b[32m│\u001b[0m\n",
              "\u001b[32m│\u001b[0m       \"operating_expense\": 57467000000.0,                                                                       \u001b[32m│\u001b[0m\n",
              "\u001b[32m│\u001b[0m       \"selling_general_and_administrative_expenses\": 26097000000.0,                                             \u001b[32m│\u001b[0m\n",
              "\u001b[32m│\u001b[0m       \"research_and_development\": 31370000000.0,                                                                \u001b[32m│\u001b[0m\n",
              "\u001b[32m│\u001b[0m       \"operating_income\": 123216000000.0,                                                                       \u001b[32m│\u001b[0m\n",
              "\u001b[32m│\u001b[0m       \"interest_expense\": 0.0,                                                                                  \u001b[32m│\u001b[0m\n",
              "\u001b[32m│\u001b[0m       \"ebit\": 123485000000.0,                                                                                   \u001b[32m│\u001b[0m\n",
              "\u001b[32m│\u001b[0m       \"income_tax_expense\": 29749000000.0,                                                                      \u001b[32m│\u001b[0m\n",
              "\u001b[32m│\u001b[0m       \"net_income_discontinued_operations\": 0.0,                                                                \u001b[32m│\u001b[0m\n",
              "\u001b[32m│\u001b[0m       \"net_income_non_controlling_interests\": 0.0,                                                              \u001b[32m│\u001b[0m\n",
              "\u001b[32m│\u001b[0m       \"net_income\": 93736000000.0,                                                                              \u001b[32m│\u001b[0m\n",
              "\u001b[32m│\u001b[0m       \"net_income_common_stock\": 93736000000.0,                                                                 \u001b[32m│\u001b[0m\n",
              "\u001b[32m│\u001b[0m       \"preferred_dividends_impact\": 0.0,                                                                        \u001b[32m│\u001b[0m\n",
              "\u001b[32m│\u001b[0m       \"consolidated_income\": 93736000000.0,                                                                     \u001b[32m│\u001b[0m\n",
              "\u001b[32m│\u001b[0m       \"earnings_per_share\": 6.11,                                                                               \u001b[32m│\u001b[0m\n",
              "\u001b[32m│\u001b[0m       \"earnings_per_share_diluted\": 6.08,                                                                       \u001b[32m│\u001b[0m\n",
              "\u001b[32m│\u001b[0m       \"dividends_per_common_share\": 0.98,                                                                       \u001b[32m│\u001b[0m\n",
              "\u001b[32m│\u001b[0m       \"weighted_average_shares\": 15343783000.0,                                                                 \u001b[32m│\u001b[0m\n",
              "\u001b[32m│\u001b[0m       \"weighted_average_shares_diluted\": 15408095000.0                                                          \u001b[32m│\u001b[0m\n",
              "\u001b[32m│\u001b[0m     }                                                                                                           \u001b[32m│\u001b[0m\n",
              "\u001b[32m│\u001b[0m   ]                                                                                                             \u001b[32m│\u001b[0m\n",
              "\u001b[32m│\u001b[0m }                                                                                                               \u001b[32m│\u001b[0m\n",
              "\u001b[32m╰─────────────────────────────────────────────────────────────────────────────────────────────────────────────────╯\u001b[0m\n"
            ]
          },
          "metadata": {},
          "output_type": "display_data"
        },
        {
          "data": {
            "text/html": [
              "<pre style=\"white-space:pre;overflow-x:auto;line-height:normal;font-family:Menlo,'DejaVu Sans Mono',consolas,'Courier New',monospace\">\n",
              "\n",
              "</pre>\n"
            ],
            "text/plain": [
              "\n",
              "\n"
            ]
          },
          "metadata": {},
          "output_type": "display_data"
        },
        {
          "data": {
            "text/html": [
              "<pre style=\"white-space:pre;overflow-x:auto;line-height:normal;font-family:Menlo,'DejaVu Sans Mono',consolas,'Courier New',monospace\"><span style=\"color: #008000; text-decoration-color: #008000\">╭─────────────────────────────────────────── </span><span style=\"color: #000080; text-decoration-color: #000080; font-weight: bold\">Sentiment Analyst Report</span><span style=\"color: #008000; text-decoration-color: #008000\"> ────────────────────────────────────────────╮</span>\n",
              "<span style=\"color: #008000; text-decoration-color: #008000\">│</span> Here is the latest news for Apple Inc. (AAPL):                                                                  <span style=\"color: #008000; text-decoration-color: #008000\">│</span>\n",
              "<span style=\"color: #008000; text-decoration-color: #008000\">│</span>                                                                                                                 <span style=\"color: #008000; text-decoration-color: #008000\">│</span>\n",
              "<span style=\"color: #008000; text-decoration-color: #008000\">│</span> 1. Apple has reported record Q4 2024 earnings with nearly $95 billion in revenue. This is an increase from      <span style=\"color: #008000; text-decoration-color: #008000\">│</span>\n",
              "<span style=\"color: #008000; text-decoration-color: #008000\">│</span> $89.5 billion in revenue in the same quarter last year. Apple reported net income of $14.74 billion for the     <span style=\"color: #008000; text-decoration-color: #008000\">│</span>\n",
              "<span style=\"color: #008000; text-decoration-color: #008000\">│</span> quarter. [Read more](https://9to5mac.com/2024/10/31/aapl-q4-2024-earnings/)                                     <span style=\"color: #008000; text-decoration-color: #008000\">│</span>\n",
              "<span style=\"color: #008000; text-decoration-color: #008000\">│</span>                                                                                                                 <span style=\"color: #008000; text-decoration-color: #008000\">│</span>\n",
              "<span style=\"color: #008000; text-decoration-color: #008000\">│</span> 2. Apple is investing $1.5 billion in satellite communications company Globalstar to expand the iPhone’s        <span style=\"color: #008000; text-decoration-color: #008000\">│</span>\n",
              "<span style=\"color: #008000; text-decoration-color: #008000\">│</span> ability to employ satellite services. This move helps Apple grow its presence in the satellite connectivity     <span style=\"color: #008000; text-decoration-color: #008000\">│</span>\n",
              "<span style=\"color: #008000; text-decoration-color: #008000\">│</span> market, and gives the iPhone an additional selling feature. [Read                                               <span style=\"color: #008000; text-decoration-color: #008000\">│</span>\n",
              "<span style=\"color: #008000; text-decoration-color: #008000\">│</span> more](https://www.nasdaq.com/articles/apple-aapl-invests-15-billion-expand-iphone-satellite-service)            <span style=\"color: #008000; text-decoration-color: #008000\">│</span>\n",
              "<span style=\"color: #008000; text-decoration-color: #008000\">│</span>                                                                                                                 <span style=\"color: #008000; text-decoration-color: #008000\">│</span>\n",
              "<span style=\"color: #008000; text-decoration-color: #008000\">│</span> For the latest market performance, earnings, product launches, and analyst opinions, you can check out [Yahoo   <span style=\"color: #008000; text-decoration-color: #008000\">│</span>\n",
              "<span style=\"color: #008000; text-decoration-color: #008000\">│</span> Finance](https://finance.yahoo.com/quote/AAPL/news/) or                                                         <span style=\"color: #008000; text-decoration-color: #008000\">│</span>\n",
              "<span style=\"color: #008000; text-decoration-color: #008000\">│</span> [Nasdaq](https://www.nasdaq.com/market-activity/stocks/aapl/news-headlines).                                    <span style=\"color: #008000; text-decoration-color: #008000\">│</span>\n",
              "<span style=\"color: #008000; text-decoration-color: #008000\">│</span>                                                                                                                 <span style=\"color: #008000; text-decoration-color: #008000\">│</span>\n",
              "<span style=\"color: #008000; text-decoration-color: #008000\">│</span> Please note that for the most accurate and up-to-date stock price and revenue data, it's best to visit the      <span style=\"color: #008000; text-decoration-color: #008000\">│</span>\n",
              "<span style=\"color: #008000; text-decoration-color: #008000\">│</span> official stock market platforms or Apple's official website.                                                    <span style=\"color: #008000; text-decoration-color: #008000\">│</span>\n",
              "<span style=\"color: #008000; text-decoration-color: #008000\">╰─────────────────────────────────────────────────────────────────────────────────────────────────────────────────╯</span>\n",
              "</pre>\n"
            ],
            "text/plain": [
              "\u001b[32m╭─\u001b[0m\u001b[32m──────────────────────────────────────────\u001b[0m\u001b[32m \u001b[0m\u001b[1;34mSentiment Analyst Report\u001b[0m\u001b[32m \u001b[0m\u001b[32m───────────────────────────────────────────\u001b[0m\u001b[32m─╮\u001b[0m\n",
              "\u001b[32m│\u001b[0m Here is the latest news for Apple Inc. (AAPL):                                                                  \u001b[32m│\u001b[0m\n",
              "\u001b[32m│\u001b[0m                                                                                                                 \u001b[32m│\u001b[0m\n",
              "\u001b[32m│\u001b[0m 1. Apple has reported record Q4 2024 earnings with nearly $95 billion in revenue. This is an increase from      \u001b[32m│\u001b[0m\n",
              "\u001b[32m│\u001b[0m $89.5 billion in revenue in the same quarter last year. Apple reported net income of $14.74 billion for the     \u001b[32m│\u001b[0m\n",
              "\u001b[32m│\u001b[0m quarter. [Read more](https://9to5mac.com/2024/10/31/aapl-q4-2024-earnings/)                                     \u001b[32m│\u001b[0m\n",
              "\u001b[32m│\u001b[0m                                                                                                                 \u001b[32m│\u001b[0m\n",
              "\u001b[32m│\u001b[0m 2. Apple is investing $1.5 billion in satellite communications company Globalstar to expand the iPhone’s        \u001b[32m│\u001b[0m\n",
              "\u001b[32m│\u001b[0m ability to employ satellite services. This move helps Apple grow its presence in the satellite connectivity     \u001b[32m│\u001b[0m\n",
              "\u001b[32m│\u001b[0m market, and gives the iPhone an additional selling feature. [Read                                               \u001b[32m│\u001b[0m\n",
              "\u001b[32m│\u001b[0m more](https://www.nasdaq.com/articles/apple-aapl-invests-15-billion-expand-iphone-satellite-service)            \u001b[32m│\u001b[0m\n",
              "\u001b[32m│\u001b[0m                                                                                                                 \u001b[32m│\u001b[0m\n",
              "\u001b[32m│\u001b[0m For the latest market performance, earnings, product launches, and analyst opinions, you can check out [Yahoo   \u001b[32m│\u001b[0m\n",
              "\u001b[32m│\u001b[0m Finance](https://finance.yahoo.com/quote/AAPL/news/) or                                                         \u001b[32m│\u001b[0m\n",
              "\u001b[32m│\u001b[0m [Nasdaq](https://www.nasdaq.com/market-activity/stocks/aapl/news-headlines).                                    \u001b[32m│\u001b[0m\n",
              "\u001b[32m│\u001b[0m                                                                                                                 \u001b[32m│\u001b[0m\n",
              "\u001b[32m│\u001b[0m Please note that for the most accurate and up-to-date stock price and revenue data, it's best to visit the      \u001b[32m│\u001b[0m\n",
              "\u001b[32m│\u001b[0m official stock market platforms or Apple's official website.                                                    \u001b[32m│\u001b[0m\n",
              "\u001b[32m╰─────────────────────────────────────────────────────────────────────────────────────────────────────────────────╯\u001b[0m\n"
            ]
          },
          "metadata": {},
          "output_type": "display_data"
        },
        {
          "data": {
            "text/html": [
              "<pre style=\"white-space:pre;overflow-x:auto;line-height:normal;font-family:Menlo,'DejaVu Sans Mono',consolas,'Courier New',monospace\">\n",
              "\n",
              "</pre>\n"
            ],
            "text/plain": [
              "\n",
              "\n"
            ]
          },
          "metadata": {},
          "output_type": "display_data"
        },
        {
          "data": {
            "text/html": [
              "<pre style=\"white-space:pre;overflow-x:auto;line-height:normal;font-family:Menlo,'DejaVu Sans Mono',consolas,'Courier New',monospace\"><span style=\"color: #808000; text-decoration-color: #808000\">─────────────────────────────────────────────── </span>Portfolio Analysis<span style=\"color: #808000; text-decoration-color: #808000\"> ────────────────────────────────────────────────</span>\n",
              "</pre>\n"
            ],
            "text/plain": [
              "\u001b[33m─────────────────────────────────────────────── \u001b[0mPortfolio Analysis\u001b[33m ────────────────────────────────────────────────\u001b[0m\n"
            ]
          },
          "metadata": {},
          "output_type": "display_data"
        },
        {
          "data": {
            "text/html": [
              "<pre style=\"white-space:pre;overflow-x:auto;line-height:normal;font-family:Menlo,'DejaVu Sans Mono',consolas,'Courier New',monospace\"><span style=\"color: #808000; text-decoration-color: #808000\">╭───────────────────────────────────── </span><span style=\"color: #808000; text-decoration-color: #808000; font-weight: bold\">Investment Summary and Recommendation</span><span style=\"color: #808000; text-decoration-color: #808000\"> ─────────────────────────────────────╮</span>\n",
              "<span style=\"color: #808000; text-decoration-color: #808000\">│</span>                                                                                                                 <span style=\"color: #808000; text-decoration-color: #808000\">│</span>\n",
              "<span style=\"color: #808000; text-decoration-color: #808000\">│</span>  1. Key Financial Metrics and Their Implications:                                                               <span style=\"color: #808000; text-decoration-color: #808000\">│</span>\n",
              "<span style=\"color: #808000; text-decoration-color: #808000\">│</span>     Apple's latest income statement shows a TTM (trailing twelve months) revenue of $391.03 billion, with a     <span style=\"color: #808000; text-decoration-color: #808000\">│</span>\n",
              "<span style=\"color: #808000; text-decoration-color: #808000\">│</span>  net income of $93.74 billion. This indicates a strong financial performance, with substantial profits. The     <span style=\"color: #808000; text-decoration-color: #808000\">│</span>\n",
              "<span style=\"color: #808000; text-decoration-color: #808000\">│</span>  company's earnings per share (EPS) stand at $6.11, suggesting that it is generating a good amount of profit    <span style=\"color: #808000; text-decoration-color: #808000\">│</span>\n",
              "<span style=\"color: #808000; text-decoration-color: #808000\">│</span>  for each share on a per-share basis.                                                                           <span style=\"color: #808000; text-decoration-color: #808000\">│</span>\n",
              "<span style=\"color: #808000; text-decoration-color: #808000\">│</span>                                                                                                                 <span style=\"color: #808000; text-decoration-color: #808000\">│</span>\n",
              "<span style=\"color: #808000; text-decoration-color: #808000\">│</span>  2. Technical Analysis Insights:                                                                                <span style=\"color: #808000; text-decoration-color: #808000\">│</span>\n",
              "<span style=\"color: #808000; text-decoration-color: #808000\">│</span>     The current stock price of Apple is $223.25. This price represents the market's valuation of the company    <span style=\"color: #808000; text-decoration-color: #808000\">│</span>\n",
              "<span style=\"color: #808000; text-decoration-color: #808000\">│</span>  at this point in time.                                                                                         <span style=\"color: #808000; text-decoration-color: #808000\">│</span>\n",
              "<span style=\"color: #808000; text-decoration-color: #808000\">│</span>                                                                                                                 <span style=\"color: #808000; text-decoration-color: #808000\">│</span>\n",
              "<span style=\"color: #808000; text-decoration-color: #808000\">│</span>  3. Market Sentiment and News Impact:                                                                           <span style=\"color: #808000; text-decoration-color: #808000\">│</span>\n",
              "<span style=\"color: #808000; text-decoration-color: #808000\">│</span>     The market sentiment towards Apple appears to be positive. The company reported record Q4 2024 earnings,    <span style=\"color: #808000; text-decoration-color: #808000\">│</span>\n",
              "<span style=\"color: #808000; text-decoration-color: #808000\">│</span>  which is a good sign of its strong financial performance and growth. Additionally, Apple's investment in       <span style=\"color: #808000; text-decoration-color: #808000\">│</span>\n",
              "<span style=\"color: #808000; text-decoration-color: #808000\">│</span>  satellite communications company Globalstar indicates strategic expansion efforts, which could potentially     <span style=\"color: #808000; text-decoration-color: #808000\">│</span>\n",
              "<span style=\"color: #808000; text-decoration-color: #808000\">│</span>  bring in more revenue streams in the future.                                                                   <span style=\"color: #808000; text-decoration-color: #808000\">│</span>\n",
              "<span style=\"color: #808000; text-decoration-color: #808000\">│</span>                                                                                                                 <span style=\"color: #808000; text-decoration-color: #808000\">│</span>\n",
              "<span style=\"color: #808000; text-decoration-color: #808000\">│</span>  4. Overall Investment Recommendation:                                                                          <span style=\"color: #808000; text-decoration-color: #808000\">│</span>\n",
              "<span style=\"color: #808000; text-decoration-color: #808000\">│</span>     Given the strong financial performance, positive market sentiment, and strategic initiatives by the         <span style=\"color: #808000; text-decoration-color: #808000\">│</span>\n",
              "<span style=\"color: #808000; text-decoration-color: #808000\">│</span>  company, it would be advisable to consider Apple as a strong candidate for investment. However, as with any    <span style=\"color: #808000; text-decoration-color: #808000\">│</span>\n",
              "<span style=\"color: #808000; text-decoration-color: #808000\">│</span>  investment, potential investors should also consider their individual financial situation, risk tolerance,     <span style=\"color: #808000; text-decoration-color: #808000\">│</span>\n",
              "<span style=\"color: #808000; text-decoration-color: #808000\">│</span>  and investment goals before making a decision.                                                                 <span style=\"color: #808000; text-decoration-color: #808000\">│</span>\n",
              "<span style=\"color: #808000; text-decoration-color: #808000\">│</span>                                                                                                                 <span style=\"color: #808000; text-decoration-color: #808000\">│</span>\n",
              "<span style=\"color: #808000; text-decoration-color: #808000\">│</span>  Please note, this recommendation is based on current information and could change with new data or changing    <span style=\"color: #808000; text-decoration-color: #808000\">│</span>\n",
              "<span style=\"color: #808000; text-decoration-color: #808000\">│</span>  market conditions. Always consult with a financial advisor or conduct thorough research before making          <span style=\"color: #808000; text-decoration-color: #808000\">│</span>\n",
              "<span style=\"color: #808000; text-decoration-color: #808000\">│</span>  investment decisions.                                                                                          <span style=\"color: #808000; text-decoration-color: #808000\">│</span>\n",
              "<span style=\"color: #808000; text-decoration-color: #808000\">│</span>                                                                                                                 <span style=\"color: #808000; text-decoration-color: #808000\">│</span>\n",
              "<span style=\"color: #808000; text-decoration-color: #808000\">╰─────────────────────────────────────────────────────────────────────────────────────────────────────────────────╯</span>\n",
              "</pre>\n"
            ],
            "text/plain": [
              "\u001b[33m╭─\u001b[0m\u001b[33m────────────────────────────────────\u001b[0m\u001b[33m \u001b[0m\u001b[1;33mInvestment Summary and Recommendation\u001b[0m\u001b[33m \u001b[0m\u001b[33m────────────────────────────────────\u001b[0m\u001b[33m─╮\u001b[0m\n",
              "\u001b[33m│\u001b[0m                                                                                                                 \u001b[33m│\u001b[0m\n",
              "\u001b[33m│\u001b[0m  1. Key Financial Metrics and Their Implications:                                                               \u001b[33m│\u001b[0m\n",
              "\u001b[33m│\u001b[0m     Apple's latest income statement shows a TTM (trailing twelve months) revenue of $391.03 billion, with a     \u001b[33m│\u001b[0m\n",
              "\u001b[33m│\u001b[0m  net income of $93.74 billion. This indicates a strong financial performance, with substantial profits. The     \u001b[33m│\u001b[0m\n",
              "\u001b[33m│\u001b[0m  company's earnings per share (EPS) stand at $6.11, suggesting that it is generating a good amount of profit    \u001b[33m│\u001b[0m\n",
              "\u001b[33m│\u001b[0m  for each share on a per-share basis.                                                                           \u001b[33m│\u001b[0m\n",
              "\u001b[33m│\u001b[0m                                                                                                                 \u001b[33m│\u001b[0m\n",
              "\u001b[33m│\u001b[0m  2. Technical Analysis Insights:                                                                                \u001b[33m│\u001b[0m\n",
              "\u001b[33m│\u001b[0m     The current stock price of Apple is $223.25. This price represents the market's valuation of the company    \u001b[33m│\u001b[0m\n",
              "\u001b[33m│\u001b[0m  at this point in time.                                                                                         \u001b[33m│\u001b[0m\n",
              "\u001b[33m│\u001b[0m                                                                                                                 \u001b[33m│\u001b[0m\n",
              "\u001b[33m│\u001b[0m  3. Market Sentiment and News Impact:                                                                           \u001b[33m│\u001b[0m\n",
              "\u001b[33m│\u001b[0m     The market sentiment towards Apple appears to be positive. The company reported record Q4 2024 earnings,    \u001b[33m│\u001b[0m\n",
              "\u001b[33m│\u001b[0m  which is a good sign of its strong financial performance and growth. Additionally, Apple's investment in       \u001b[33m│\u001b[0m\n",
              "\u001b[33m│\u001b[0m  satellite communications company Globalstar indicates strategic expansion efforts, which could potentially     \u001b[33m│\u001b[0m\n",
              "\u001b[33m│\u001b[0m  bring in more revenue streams in the future.                                                                   \u001b[33m│\u001b[0m\n",
              "\u001b[33m│\u001b[0m                                                                                                                 \u001b[33m│\u001b[0m\n",
              "\u001b[33m│\u001b[0m  4. Overall Investment Recommendation:                                                                          \u001b[33m│\u001b[0m\n",
              "\u001b[33m│\u001b[0m     Given the strong financial performance, positive market sentiment, and strategic initiatives by the         \u001b[33m│\u001b[0m\n",
              "\u001b[33m│\u001b[0m  company, it would be advisable to consider Apple as a strong candidate for investment. However, as with any    \u001b[33m│\u001b[0m\n",
              "\u001b[33m│\u001b[0m  investment, potential investors should also consider their individual financial situation, risk tolerance,     \u001b[33m│\u001b[0m\n",
              "\u001b[33m│\u001b[0m  and investment goals before making a decision.                                                                 \u001b[33m│\u001b[0m\n",
              "\u001b[33m│\u001b[0m                                                                                                                 \u001b[33m│\u001b[0m\n",
              "\u001b[33m│\u001b[0m  Please note, this recommendation is based on current information and could change with new data or changing    \u001b[33m│\u001b[0m\n",
              "\u001b[33m│\u001b[0m  market conditions. Always consult with a financial advisor or conduct thorough research before making          \u001b[33m│\u001b[0m\n",
              "\u001b[33m│\u001b[0m  investment decisions.                                                                                          \u001b[33m│\u001b[0m\n",
              "\u001b[33m│\u001b[0m                                                                                                                 \u001b[33m│\u001b[0m\n",
              "\u001b[33m╰─────────────────────────────────────────────────────────────────────────────────────────────────────────────────╯\u001b[0m\n"
            ]
          },
          "metadata": {},
          "output_type": "display_data"
        },
        {
          "data": {
            "text/html": [
              "<pre style=\"white-space:pre;overflow-x:auto;line-height:normal;font-family:Menlo,'DejaVu Sans Mono',consolas,'Courier New',monospace\"><span style=\"color: #808000; text-decoration-color: #808000\">───────────────────────────────────────────────────────────────────────────────────────────────────────────────────</span>\n",
              "</pre>\n"
            ],
            "text/plain": [
              "\u001b[33m───────────────────────────────────────────────────────────────────────────────────────────────────────────────────\u001b[0m\n"
            ]
          },
          "metadata": {},
          "output_type": "display_data"
        },
        {
          "data": {
            "text/html": [
              "<pre style=\"white-space:pre;overflow-x:auto;line-height:normal;font-family:Menlo,'DejaVu Sans Mono',consolas,'Courier New',monospace\">\n",
              "\n",
              "</pre>\n"
            ],
            "text/plain": [
              "\n",
              "\n"
            ]
          },
          "metadata": {},
          "output_type": "display_data"
        },
        {
          "data": {
            "text/html": [
              "<pre style=\"white-space:pre;overflow-x:auto;line-height:normal;font-family:Menlo,'DejaVu Sans Mono',consolas,'Courier New',monospace\"><span style=\"color: #000080; text-decoration-color: #000080; font-weight: bold\">Analysis Complete</span>\n",
              "\n",
              "</pre>\n"
            ],
            "text/plain": [
              "\u001b[1;34mAnalysis Complete\u001b[0m\n",
              "\n"
            ]
          },
          "metadata": {},
          "output_type": "display_data"
        }
      ],
      "source": [
        "input_data = {\n",
        "    \"messages\": [HumanMessage(content=\"What is the latest news, stock price, and revenue for AAPL?\")]\n",
        "}\n",
        "config = {\"recursion_limit\": 10}\n",
        "stream_agent_execution(graph, input_data, config)"
      ]
    }
  ],
  "metadata": {
    "colab": {
      "authorship_tag": "ABX9TyP38+2ElIoEtHzWbGyMD5q7",
      "collapsed_sections": [
        "xYivxWv2b6SW",
        "iADG-Tp3b--h",
        "F0N8OtbbcG0L",
        "v5LtjrI-cJ1P",
        "V7_AEtWz56-n"
      ],
      "include_colab_link": true,
      "provenance": []
    },
    "kernelspec": {
      "display_name": "Python 3",
      "name": "python3"
    },
    "language_info": {
      "name": "python"
    }
  },
  "nbformat": 4,
  "nbformat_minor": 0
}
